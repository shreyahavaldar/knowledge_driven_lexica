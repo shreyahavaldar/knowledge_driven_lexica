{
 "cells": [
  {
   "cell_type": "code",
   "execution_count": null,
   "metadata": {},
   "outputs": [],
   "source": [
    "import os, sys\n",
    "import pandas as pd\n",
    "import numpy as np\n",
    "import re\n",
    "from googletrans import Translator\n",
    "import sqlalchemy\n",
    "from tqdm import tqdm, trange\n",
    "from scipy.stats.stats import pearsonr  "
   ]
  },
  {
   "cell_type": "markdown",
   "metadata": {},
   "source": [
    "## Read Data"
   ]
  },
  {
   "cell_type": "code",
   "execution_count": null,
   "metadata": {},
   "outputs": [],
   "source": [
    "db = sqlalchemy.engine.url.URL(drivername='mysql', host='127.0.0.1', database='twitterSuperUsers', query={'read_default_file': '~/.my.cnf', 'charset':'utf8mb4'})\n",
    "db_lexica = sqlalchemy.engine.url.URL(drivername='mysql', host='127.0.0.1', database='dlatk_lexica', query={'read_default_file': '~/.my.cnf', 'charset':'utf8'})\n",
    "\n",
    "engine = sqlalchemy.create_engine(db)\n",
    "\n",
    "county_scores = pd.read_sql(\"feat$cat_individVsCollect_w$msgs_100u$cnty$1gra\", con=engine)\n",
    "state_scores = pd.read_sql(\"feat$cat_individVsCollect_w$msgs_100u$state$1gra\", con=engine)\n",
    "\n",
    "county_counts = pd.read_sql(\"feat$words_individVsCollect$msgs_100u$cnty$1gra\", con=engine)\n",
    "state_counts = pd.read_sql(\"feat$words_individVsCollect$msgs_100u$state$1gra\", con=engine)\n",
    "\n",
    "engine = sqlalchemy.create_engine(db_lexica)\n",
    "lexicon = pd.read_sql(\"individVsCollect\", con=engine)\n"
   ]
  },
  {
   "cell_type": "code",
   "execution_count": null,
   "metadata": {},
   "outputs": [],
   "source": [
    "#correlate the count of each individual word across states/counties and the overall lexicon score across states/counties\n",
    "def validate_word(word, lexicon_score, word_counts):\n",
    "    # print(lexicon_score)\n",
    "    # print(word_counts)\n",
    "\n",
    "    # only look at county/state scores that also have counts for the specified word\n",
    "    lexicon_score_trunc = lexicon_score.loc[lexicon_score[\"group_id\"].isin(word_counts[\"group_id\"])]\n",
    "    \n",
    "    # sort by county/state id\n",
    "    lexicon_score_trunc = lexicon_score_trunc.sort_values(by=[\"group_id\"])\n",
    "    word_counts = word_counts.sort_values(by=[\"group_id\"]).drop_duplicates()\n",
    "\n",
    "    # bypass words that do not show up in any Tweets \n",
    "    if(len(word_counts) == 0):\n",
    "        return None\n",
    "    \n",
    "    # return Pearson correlation between overall score and word count\n",
    "    return(pearsonr(lexicon_score_trunc[\"group_norm\"], word_counts[\"group_norm\"]))\n",
    "\n",
    "\n",
    "# get correlations of each word in the lexicon with the overall lexicon score\n",
    "def validate_lexicon(lexicon, lexicon_score, total_word_counts):\n",
    "    correlations = {}\n",
    "    for word in lexicon[\"term\"]:\n",
    "        word_counts = total_word_counts[total_word_counts[\"feat\"] == word]\n",
    "        correlations[word] = validate_word(word, lexicon_score, word_counts)\n",
    "    return correlations\n",
    "\n",
    "# get all relevant words in the lexicon and their correlation with the overall score\n",
    "def get_valid_words(correlations_dict):\n",
    "    valid_words = {}\n",
    "    for c in correlations_dict:\n",
    "        if(correlations_dict[c] is not None):\n",
    "            valid_words[c] = correlations_dict[c][0]\n",
    "        # else:\n",
    "        #     print(c + \": \" + str(correlations_dict[c]))\n",
    "    return dict(sorted(valid_words.items(), key=lambda item: item[1]*-1))"
   ]
  },
  {
   "cell_type": "code",
   "execution_count": null,
   "metadata": {},
   "outputs": [],
   "source": [
    "lexicon_indv = lexicon[lexicon[\"category\"] == \"INDIVIDUALIST\"]\n",
    "lexicon_coll = lexicon[lexicon[\"category\"] == \"COLLECTIVIST\"]\n",
    "\n",
    "validate_indv_county = validate_lexicon(lexicon_indv, county_scores[county_scores[\"feat\"]==\"INDIVIDUALIST\"], county_counts)\n",
    "validate_coll_county = validate_lexicon(lexicon_coll, county_scores[county_scores[\"feat\"]==\"COLLECTIVIST\"], county_counts)\n",
    "\n",
    "validate_indv_state = validate_lexicon(lexicon_indv, state_scores[state_scores[\"feat\"]==\"INDIVIDUALIST\"], state_counts)\n",
    "validate_coll_state = validate_lexicon(lexicon_coll, state_scores[state_scores[\"feat\"]==\"COLLECTIVIST\"], state_counts)"
   ]
  },
  {
   "cell_type": "code",
   "execution_count": null,
   "metadata": {},
   "outputs": [],
   "source": [
    "validated_indv_county = get_valid_words(validate_indv_county)\n",
    "validated_coll_county = get_valid_words(validate_coll_county)\n",
    "validated_indv_state = get_valid_words(validate_indv_state)\n",
    "validated_coll_state = get_valid_words(validate_coll_state)\n",
    "\n",
    "validated_indv_lexicon = {}\n",
    "for word in lexicon_indv[\"term\"]:\n",
    "    score_1 = validate_indv_county.get(word, (0, 0)) or (0, 0)\n",
    "    score_2 = validate_indv_state.get(word, (0, 0)) or (0, 0)\n",
    "    validated_indv_lexicon[word] = (score_1[0] + score_2[0])/2\n",
    "validated_indv_lexicon = dict(sorted(validated_indv_lexicon.items(), key=lambda item: item[1]*-1))\n",
    "\n",
    "validated_coll_lexicon = {}\n",
    "for word in lexicon_coll[\"term\"]:\n",
    "    score_1 = validate_coll_county.get(word, (0, 0)) or (0, 0)\n",
    "    score_2 = validate_coll_state.get(word, (0, 0)) or (0, 0)\n",
    "    validated_coll_lexicon[word] = (score_1[0] + score_2[0])/2\n",
    "validated_coll_lexicon = dict(sorted(validated_coll_lexicon.items(), key=lambda item: item[1]*-1))"
   ]
  },
  {
   "cell_type": "markdown",
   "metadata": {},
   "source": []
  }
 ],
 "metadata": {
  "kernelspec": {
   "display_name": "Python 3.6.13 ('shreya_env')",
   "language": "python",
   "name": "python3"
  },
  "language_info": {
   "codemirror_mode": {
    "name": "ipython",
    "version": 3
   },
   "file_extension": ".py",
   "mimetype": "text/x-python",
   "name": "python",
   "nbconvert_exporter": "python",
   "pygments_lexer": "ipython3",
   "version": "3.6.13 |Anaconda, Inc.| (default, Jun  4 2021, 14:25:59) \n[GCC 7.5.0]"
  },
  "orig_nbformat": 4,
  "vscode": {
   "interpreter": {
    "hash": "91463280d8781b4327168e6aed37b9922ec5e51ac75b06b77d3a30bc9c56392e"
   }
  }
 },
 "nbformat": 4,
 "nbformat_minor": 2
}
