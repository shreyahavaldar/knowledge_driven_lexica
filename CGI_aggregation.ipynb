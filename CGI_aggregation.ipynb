{
 "cells": [
  {
   "cell_type": "code",
   "execution_count": 1,
   "metadata": {},
   "outputs": [],
   "source": [
    "import os, sys\n",
    "import pandas as pd\n",
    "import numpy as np\n",
    "import re\n",
    "from googletrans import Translator\n",
    "import sqlalchemy\n",
    "from tqdm import tqdm, trange\n",
    "from scipy.stats.stats import pearsonr, spearmanr  \n",
    "from scipy.stats import zscore\n",
    "import random\n",
    "import pingouin as pg\n",
    "import math\n",
    "from sklearn.preprocessing import normalize"
   ]
  },
  {
   "attachments": {},
   "cell_type": "markdown",
   "metadata": {},
   "source": [
    "### Read in relevant files/MySQL tables"
   ]
  },
  {
   "cell_type": "code",
   "execution_count": 2,
   "metadata": {},
   "outputs": [
    {
     "name": "stderr",
     "output_type": "stream",
     "text": [
      "/home/shreyah/.local/lib/python3.6/site-packages/ipykernel_launcher.py:1: SADeprecationWarning: Calling URL() directly is deprecated and will be disabled in a future release.  The public constructor for URL is now the URL.create() method.\n",
      "  \"\"\"Entry point for launching an IPython kernel.\n",
      "/home/shreyah/.local/lib/python3.6/site-packages/ipykernel_launcher.py:2: SADeprecationWarning: Calling URL() directly is deprecated and will be disabled in a future release.  The public constructor for URL is now the URL.create() method.\n",
      "  \n",
      "/home/shreyah/.local/lib/python3.6/site-packages/ipykernel_launcher.py:3: SADeprecationWarning: Calling URL() directly is deprecated and will be disabled in a future release.  The public constructor for URL is now the URL.create() method.\n",
      "  This is separate from the ipykernel package so we can avoid doing imports until\n",
      "/home/shreyah/.conda/envs/shreya_env/lib/python3.6/site-packages/outdated/utils.py:18: OutdatedCacheFailedWarning: Failed to use cache while checking for outdated package.\n",
      "Set the environment variable OUTDATED_RAISE_EXCEPTION=1 for a full traceback.\n",
      "Set the environment variable OUTDATED_IGNORE=1 to disable these warnings.\n",
      "  **kwargs\n",
      "/home/shreyah/.conda/envs/shreya_env/lib/python3.6/site-packages/outdated/utils.py:18: OutdatedPackageWarning: The package pingouin is out of date. Your version is 0.3.12, the latest is 0.5.3.\n",
      "Set the environment variable OUTDATED_IGNORE=1 to disable these warnings.\n",
      "  **kwargs\n"
     ]
    }
   ],
   "source": [
    "db_twitter = sqlalchemy.engine.url.URL(drivername='mysql', host='127.0.0.1', database='twitterSuperUsers', query={'read_default_file': '~/.my.cnf', 'charset':'utf8mb4'})\n",
    "db_lexica = sqlalchemy.engine.url.URL(drivername='mysql', host='127.0.0.1', database='dlatk_lexica', query={'read_default_file': '~/.my.cnf', 'charset':'utf8'})\n",
    "db_county = sqlalchemy.engine.url.URL(drivername='mysql', host='127.0.0.1', database='county_data', query={'read_default_file': '~/.my.cnf', 'charset':'utf8'})\n",
    "\n",
    "engine = sqlalchemy.create_engine(db_twitter)\n",
    "county_scores = pd.read_sql(\"feat$cat_individVsCollectFinal$msgs_100u$cnty$1gra\", con=engine)\n",
    "state_scores = pd.read_sql(\"feat$cat_individVsCollectFinal$msgs_100u$state$1gra\", con=engine)\n",
    "\n",
    "engine = sqlalchemy.create_engine(db_lexica)\n",
    "lexicon = pd.read_sql(\"individVsCollectFinal\", con=engine)\n",
    "\n",
    "engine = sqlalchemy.create_engine(db_county)\n",
    "county_mapping = pd.read_sql(\"county_by_state_reg_div\", con=engine)\n",
    "community_mapping = pd.read_sql(\"superCrossWalk_FINAL_FINAL\", con=engine)"
   ]
  },
  {
   "attachments": {},
   "cell_type": "markdown",
   "metadata": {},
   "source": [
    "### Utils"
   ]
  },
  {
   "cell_type": "code",
   "execution_count": 78,
   "metadata": {},
   "outputs": [],
   "source": [
    "#go from county name --> fips code\n",
    "def name_to_county(name):\n",
    "    #get state name\n",
    "    state = name.split(\",\")[-1].strip()\n",
    "    if(state == \"Puerto Rico\"): \n",
    "        return None\n",
    "    #get county name\n",
    "    county = (name.split(\",\")[0]).split(\"County\")[0].strip()\n",
    "    county = county.split(\"Municipality\")[0].strip()\n",
    "    county = county.split(\"Borough\")[0].strip()\n",
    "    county = county.split(\"Parish\")[0].strip()\n",
    "    county = county.replace(\"city\", \"City\")\n",
    "    county = county.replace(\"ñ\", \"n\")\n",
    "   \n",
    "    temp = county_mapping[county_mapping[\"state\"] == state]\n",
    "    temp = temp[temp[\"county\"] == county][\"cnty\"]\n",
    "    try:\n",
    "        return np.array(temp)[0]\n",
    "    except:\n",
    "        print(\"Couldn't map to fips code: \", name)\n",
    "        return None\n",
    "\n",
    "#calculate correlation between two county-level data points\n",
    "def calculate_correlation(data1, data2):\n",
    "    overlapping_keys = np.intersect1d(list(data1.keys()), list(data2.keys()))\n",
    "    values1 = [data1[x] for x in overlapping_keys]\n",
    "    values2 = [data2[x] for x in overlapping_keys]\n",
    "    return pearsonr(values1, values2)\n",
    "\n",
    "def get_county_map():\n",
    "    mapping = {}\n",
    "    with open(\"GCI Data/counties.txt\") as f:\n",
    "        lines = [line.rstrip() for line in f]\n",
    "        for l in lines:\n",
    "            parts = l.split(\",\")\n",
    "            mapping[parts[1]] = int(parts[0])\n",
    "    return mapping\n",
    "\n",
    "#get state-aggregated data for county-level data (average over all counties)\n",
    "def get_state_data(county_data):\n",
    "    mapping = get_county_map()\n",
    "    state_data = {}\n",
    "    for c in county_data:\n",
    "        try:\n",
    "            state = list((county_mapping[county_mapping[\"cnty\"] == c])[\"state\"])[0]\n",
    "        except:\n",
    "            continue\n",
    "        if state not in state_data.keys():\n",
    "            state_data[state] = []\n",
    "        state_data[state].append(county_data[c])       \n",
    "    \n",
    "    state_data_final = {}\n",
    "    for s in state_data:\n",
    "        state_data_final[s] = np.average(state_data[s])\n",
    "    return normalize_data(state_data_final)\n",
    "\n",
    "def normalize_data(data):\n",
    "    keys = data.keys()\n",
    "    vals = np.array([data[x] for x in keys])\n",
    "    normalized_vals = zscore(vals) \n",
    "    return dict(zip(keys,normalized_vals))\n",
    "\n",
    "#get correlation between single (list) and (list of lists) at the county level\n",
    "def validate_data(input_data, other_data):\n",
    "    overlapping_keys = list(input_data.keys())\n",
    "    for d in other_data:\n",
    "        overlapping_keys = np.intersect1d(list(d.keys()), overlapping_keys)\n",
    "    \n",
    "    data_values = np.array([input_data[x] for x in overlapping_keys])\n",
    "    other_data_intersect = []\n",
    "    for d in other_data:\n",
    "        other_data_intersect.append(np.array([d[x] for x in overlapping_keys]))   \n",
    "    print(pearsonr(data_values, sum(other_data_intersect)))   \n",
    "\n",
    "def get_overlapping_keys(dicts):\n",
    "    overlapping_keys = list(dicts[0].keys())\n",
    "    for d in dicts:\n",
    "        overlapping_keys = np.intersect1d(list(d.keys()), overlapping_keys)\n",
    "    return overlapping_keys\n",
    "\n",
    "def process_dicts(dicts):\n",
    "    keys = get_overlapping_keys(dicts)\n",
    "    processed_lists = []   \n",
    "    for d in dicts:\n",
    "        processed_list = np.array([d[x] for x in keys])\n",
    "        processed_lists.append(processed_list)\n",
    "    return keys, processed_lists\n",
    "\n",
    "def get_community_mapping():\n",
    "    cnty = community_mapping[\"cnty\"]\n",
    "    ACP_name = community_mapping[\"ACP_name\"]\n",
    "    mappings = {}   \n",
    "    communities = np.array(ACP_name)\n",
    "    communities = np.unique(communities[communities != np.array(None)])\n",
    "    for i in range(len(cnty)):      \n",
    "        mappings[cnty[i]] = ACP_name[i]\n",
    "    return communities, mappings\n",
    "\n",
    "def zero_one_normalize(data):\n",
    "    return (data - np.min(data)) / (np.max(data) - np.min(data))\n",
    "    "
   ]
  },
  {
   "cell_type": "code",
   "execution_count": 4,
   "metadata": {},
   "outputs": [
    {
     "name": "stdout",
     "output_type": "stream",
     "text": [
      "Couldn't map to fips code:  United States\n"
     ]
    }
   ],
   "source": [
    "income_data = pd.read_csv(\"GCI Data/income_census.csv\")\n",
    "income_data.set_index(\"Label (Grouping)\", inplace=True)\n",
    "income_data = income_data.T\n",
    "\n",
    "income_string = \"Median earnings (dollars) for full-time, year-round workers with earnings\"\n",
    "\n",
    "#remove unecessary data\n",
    "temp_columns = income_data.columns\n",
    "for c in temp_columns:\n",
    "    if (income_string in c):\n",
    "        income_data[\"income\"] = income_data[c]\n",
    "income_data.drop(columns=temp_columns, inplace=True)\n",
    "\n",
    "income_control = {}\n",
    "for index, row in income_data.iterrows():\n",
    "    if(\"Total!!Estimate\" not in index): continue\n",
    "    name = index.split(\"!!\")[0]\n",
    "    fips = name_to_county(name)\n",
    "    if fips is not None:                       \n",
    "        try:\n",
    "            income = int(row[\"income\"].replace(\",\", \"\"))\n",
    "            income_control[fips] = income\n",
    "        except:\n",
    "            continue\n",
    "income_control = normalize_data(income_control)"
   ]
  },
  {
   "attachments": {},
   "cell_type": "markdown",
   "metadata": {},
   "source": [
    "### Indicator 1: Fertility Rate\n",
    "\n",
    "##### Total fertility rate for each county, US Census, county level"
   ]
  },
  {
   "cell_type": "code",
   "execution_count": 5,
   "metadata": {},
   "outputs": [],
   "source": [
    "fertility_data = pd.read_csv(\"GCI Data/fertility_census.csv\")\n",
    "fertility_data.set_index(\"Label (Grouping)\", inplace=True)\n",
    "rate_string = \"!!Women with births in the past 12 months !!Rate per 1,000 women!!Estimate\"\n",
    "\n",
    "#remove unecessary data\n",
    "for c in fertility_data.columns:\n",
    "    if(rate_string in c):\n",
    "        name = c.split(rate_string)[0]\n",
    "        fertility_data[name] = fertility_data[c]\n",
    "    fertility_data.drop(columns=[c], inplace=True)\n",
    "\n",
    "fertility_data = fertility_data.T\n",
    "columns_temp = fertility_data.columns\n",
    "\n",
    "#keep only relevant columns\n",
    "fertility_data[\"all\"] = fertility_data[\"Women 15 to 50 years\"]\n",
    "fertility_data[\"15-19\"] = fertility_data[\"15 to 19 years\"]\n",
    "fertility_data[\"20-34\"] = fertility_data[\"20 to 34 years\"]\n",
    "fertility_data[\"35-50\"] = fertility_data[\"35 to 50 years\"]\n",
    "fertility_data.drop(columns=columns_temp, inplace=True)"
   ]
  },
  {
   "cell_type": "code",
   "execution_count": 6,
   "metadata": {},
   "outputs": [],
   "source": [
    "def get_tfr(row):\n",
    "    try:\n",
    "        return (int(row[\"15-19\"])*5 + int(row[\"20-34\"])*15 + int(row[\"35-50\"])*16)/1000\n",
    "    except:\n",
    "        return None\n",
    "\n",
    "tfr_data = {}\n",
    "for index,row in fertility_data.iterrows():\n",
    "    tfr = get_tfr(row)\n",
    "    fips = name_to_county(index)\n",
    "    if(tfr is not None and fips is not None):\n",
    "        tfr_data[fips] = tfr\n",
    "\n",
    "tfr_data = normalize_data(tfr_data)"
   ]
  },
  {
   "attachments": {},
   "cell_type": "markdown",
   "metadata": {},
   "source": [
    "### Indicator 2: Living Arrangements\n",
    "\n",
    "##### Number of households with grandparents living with grandchildren, US Census, county level"
   ]
  },
  {
   "cell_type": "code",
   "execution_count": 7,
   "metadata": {},
   "outputs": [
    {
     "name": "stdout",
     "output_type": "stream",
     "text": [
      "Couldn't map to fips code:  United States\n"
     ]
    }
   ],
   "source": [
    "household_data = pd.read_csv(\"GCI Data/household_census.csv\")\n",
    "household_data.set_index(\"Label (Grouping)\", inplace=True)\n",
    "household_data = household_data.T\n",
    "\n",
    "coll_string = \"Household with grandparents living with grandchildren:\"\n",
    "\n",
    "#remove unecessary data\n",
    "temp_columns = household_data.columns\n",
    "temp_columns = temp_columns.drop(\"Total:\")\n",
    "for c in temp_columns:\n",
    "    if (coll_string in c):\n",
    "        household_data[\"total_coll\"] = household_data[c]\n",
    "household_data.drop(columns=temp_columns, inplace=True)\n",
    "\n",
    "living_data = {}\n",
    "for index, row in household_data.iterrows():\n",
    "    name = index.split(\"!!\")[0]\n",
    "    fips = name_to_county(name)\n",
    "    if fips is not None:                       \n",
    "        try:\n",
    "            total = int(row[\"Total:\"].replace(\",\", \"\"))\n",
    "            total_coll = int(row[\"total_coll\"].replace(\",\", \"\"))\n",
    "            living_data[fips] = (total_coll)/total\n",
    "        except:\n",
    "            continue\n",
    "\n",
    "living_data = normalize_data(living_data)"
   ]
  },
  {
   "attachments": {},
   "cell_type": "markdown",
   "metadata": {},
   "source": [
    "### Indicator 3: Stability of Marriage\n",
    "\n",
    "##### Ratio of married individuals to divorced individuals 15 years and over (sum of men and women), US Census, county level"
   ]
  },
  {
   "cell_type": "code",
   "execution_count": 8,
   "metadata": {},
   "outputs": [
    {
     "name": "stdout",
     "output_type": "stream",
     "text": [
      "Couldn't map to fips code:  United States\n"
     ]
    }
   ],
   "source": [
    "marital_data = pd.read_csv(\"GCI Data/divorce_census.csv\")\n",
    "marital_data.set_index(\"Label (Grouping)\", inplace=True)\n",
    "marital_data = marital_data.T\n",
    "\n",
    "total_string_male = \"Males 15 years and over\"\n",
    "total_string_female = \"Females 15 years and over\"\n",
    "divorce_string = \"Divorced\"\n",
    "separated_string = \"Separated\"\n",
    "married_string = \"Now married, except separated\"\n",
    "\n",
    "#remove unecessary data\n",
    "temp_columns = marital_data.columns\n",
    "for c in temp_columns:\n",
    "    if(divorce_string in c):\n",
    "        label = (c.split(\"(\"))[1].split(\")\")[0]\n",
    "        marital_data[\"num_divorced_\"+label] = marital_data[c]\n",
    "    elif(married_string in c):\n",
    "        label = (c.split(\"(\"))[1].split(\")\")[0]\n",
    "        marital_data[\"num_married_\"+label] = marital_data[c]\n",
    "    elif(separated_string in c):\n",
    "        label = (c.split(\"(\"))[1].split(\")\")[0]\n",
    "        marital_data[\"num_separated_\"+label] = marital_data[c]\n",
    "    elif(total_string_male in c):\n",
    "        marital_data[\"total_male\"] = marital_data[c]\n",
    "    elif(total_string_female in c):\n",
    "        marital_data[\"total_female\"] = marital_data[c]\n",
    "marital_data.drop(columns=temp_columns, inplace=True)\n",
    "\n",
    "marriage_data = {}\n",
    "for index, row in marital_data.iterrows():\n",
    "    if(\"Percent\" in index): continue\n",
    "    name = index.split(\"!!\")[0]\n",
    "    fips = name_to_county(name)\n",
    "    if fips is not None:                       \n",
    "        try:\n",
    "            married = int(row[\"num_married_male\"].replace(\",\", \"\")) + int(row[\"num_married_female\"].replace(\",\", \"\"))\n",
    "            divorced = int(row[\"num_divorced_male\"].replace(\",\", \"\")) + int(row[\"num_divorced_female\"].replace(\",\", \"\")) \n",
    "            separated = int(row[\"num_separated_male\"].replace(\",\", \"\")) + int(row[\"num_separated_female\"].replace(\",\", \"\"))\n",
    "            total = int(row[\"total_male\"].replace(\",\", \"\")) + int(row[\"total_female\"].replace(\",\", \"\"))\n",
    "            marriage_data[fips] = married/divorced\n",
    "        except:\n",
    "            continue\n",
    "\n",
    "marriage_data = normalize_data(marriage_data)"
   ]
  },
  {
   "attachments": {},
   "cell_type": "markdown",
   "metadata": {},
   "source": [
    "### Indicator 4: Religiosity\n",
    "\n",
    "##### Score for question \"For each of the following aspects, indicate how important it is in your life. Would you say it is very important, rather important, not very important or not important at all? – Religion\" (scale of 1-4) \n",
    "##### Inverse weighted so high importance --> high score, WVS Survey, state level\n",
    "##### Standard devation per state = 1.02 --> enforcing that each state must have > 10 responses"
   ]
  },
  {
   "cell_type": "code",
   "execution_count": 9,
   "metadata": {},
   "outputs": [
    {
     "name": "stderr",
     "output_type": "stream",
     "text": [
      "/home/shreyah/.local/lib/python3.6/site-packages/IPython/core/interactiveshell.py:3072: DtypeWarning: Columns (345,347,349,574,575,576) have mixed types.Specify dtype option on import or set low_memory=False.\n",
      "  interactivity=interactivity, compiler=compiler, result=result)\n"
     ]
    }
   ],
   "source": [
    "wvs_data = pd.read_csv(\"GCI Data/WVS_Cross-National_Wave_7.csv\")\n",
    "wvs_data_usa = wvs_data[wvs_data[\"B_COUNTRY_ALPHA\"] == \"USA\"]\n",
    "\n",
    "wvs_state_mapping = {}\n",
    "with open(\"GCI Data/wvs_states.txt\") as f:\n",
    "    lines = [line.rstrip() for line in f]\n",
    "for l in lines:\n",
    "    parts = l.split(\" \")\n",
    "    wvs_state_mapping[int(parts[0])] = \" \".join(parts[3:])    "
   ]
  },
  {
   "cell_type": "code",
   "execution_count": 10,
   "metadata": {},
   "outputs": [
    {
     "name": "stdout",
     "output_type": "stream",
     "text": [
      "STD DEV: 1.0217751798668622\n"
     ]
    }
   ],
   "source": [
    "religion_data_temp = {}\n",
    "\n",
    "for index, row in wvs_data_usa.iterrows():\n",
    "    state = wvs_state_mapping[row[\"N_REGION_WVS\"]]\n",
    "    religious_importance = row[\"Q6\"]\n",
    "    if(religious_importance > 0):\n",
    "        if(state not in religion_data_temp.keys()):\n",
    "            religion_data_temp[state] = []\n",
    "        religion_data_temp[state].append(religious_importance)\n",
    "\n",
    "religion_data = {}\n",
    "std_devs = []\n",
    "for s in religion_data_temp:\n",
    "    if(len(religion_data_temp[s]) > 10):\n",
    "        religion_data[s] = 1/np.average(religion_data_temp[s])\n",
    "    std_devs.append(np.std(religion_data_temp[s]))\n",
    "print(\"STD DEV:\", np.average(std_devs))\n",
    "    \n",
    "religion_data = normalize_data(religion_data)"
   ]
  },
  {
   "attachments": {},
   "cell_type": "markdown",
   "metadata": {},
   "source": [
    "### Indicator 5: Collective Transportation\n",
    "\n",
    "##### Average number of cars per household, inverse weights so high number of cars --> low score, US Census, county level"
   ]
  },
  {
   "cell_type": "code",
   "execution_count": 11,
   "metadata": {},
   "outputs": [
    {
     "name": "stdout",
     "output_type": "stream",
     "text": [
      "Couldn't map to fips code:  United States\n"
     ]
    }
   ],
   "source": [
    "transportation_data = pd.read_csv(\"GCI Data/transportation_census.csv\")\n",
    "transportation_data.set_index(\"Label (Grouping)\", inplace=True)\n",
    "transportation_data = transportation_data.T\n",
    "\n",
    "temp_columns = transportation_data.columns\n",
    "temp_columns = temp_columns.drop(\"Total:\")\n",
    "for c in temp_columns:\n",
    "    col_name = c.strip()\n",
    "    transportation_data[col_name] = transportation_data[c]\n",
    "transportation_data.drop(columns=temp_columns, inplace=True)\n",
    "\n",
    "def get_cars_per_household(row):\n",
    "    total = int(row[\"Total:\"].replace(\",\", \"\"))\n",
    "    none = int(row[\"No vehicle available\"].replace(\",\", \"\"))\n",
    "    car1 = int(row[\"1 vehicle available\"].replace(\",\", \"\"))\n",
    "    car2 = int(row[\"2 vehicles available\"].replace(\",\", \"\"))\n",
    "    car3 = int(row[\"3 vehicles available\"].replace(\",\", \"\"))\n",
    "    car4 = int(row[\"4 or more vehicles available\"].replace(\",\", \"\"))\n",
    "    return (car1 + car2*2 + car3*3 + car4*4)/total\n",
    "\n",
    "car_data = {}\n",
    "for index, row in transportation_data.iterrows():\n",
    "    name = index.split(\"!!\")[0]\n",
    "    fips = name_to_county(name)\n",
    "    if fips is not None:                       \n",
    "        try:\n",
    "            car_data[fips] = 1/get_cars_per_household(row)\n",
    "        except:\n",
    "            continue\n",
    "car_data = normalize_data(car_data)"
   ]
  },
  {
   "attachments": {},
   "cell_type": "markdown",
   "metadata": {},
   "source": [
    "### Indicator 6: Ingroup Bias\n",
    "\n",
    "##### Score for question \"Do you agree, disagree or neither agree nor disagree with the following statements? - When jobs are scarce, employers should give priority to people of this country over immigrants.\" (scale of 1-5) \n",
    "##### Inverse weighted so high agreement --> high score, WVS Survey, state level\n",
    "##### Average standard devation per state = 0.82 --> enforcing each state must have > 5 responses"
   ]
  },
  {
   "cell_type": "code",
   "execution_count": 12,
   "metadata": {},
   "outputs": [
    {
     "name": "stdout",
     "output_type": "stream",
     "text": [
      "STD DEV: 0.8247487844563858\n"
     ]
    }
   ],
   "source": [
    "compatriotism_data_temp = {}\n",
    "\n",
    "for index, row in wvs_data_usa.iterrows():\n",
    "    state = wvs_state_mapping[row[\"N_REGION_WVS\"]]\n",
    "    bias = row[\"Q34\"]\n",
    "    if(bias > 0):\n",
    "        if(state not in compatriotism_data_temp.keys()):\n",
    "            compatriotism_data_temp[state] = []\n",
    "        compatriotism_data_temp[state].append(bias)\n",
    "\n",
    "compatriotism_data = {}\n",
    "std_devs = []\n",
    "for s in compatriotism_data_temp:\n",
    "    compatriotism_data[s] = 1/np.average(compatriotism_data_temp[s]) \n",
    "    std_devs.append(np.std(compatriotism_data_temp[s]))\n",
    "print(\"STD DEV:\", np.average(std_devs))\n",
    "\n",
    "compatriotism_data = normalize_data(compatriotism_data)"
   ]
  },
  {
   "attachments": {},
   "cell_type": "markdown",
   "metadata": {},
   "source": [
    "### Aggregate Data"
   ]
  },
  {
   "attachments": {},
   "cell_type": "markdown",
   "metadata": {},
   "source": [
    "##### All data at the county level"
   ]
  },
  {
   "cell_type": "code",
   "execution_count": 13,
   "metadata": {},
   "outputs": [
    {
     "name": "stdout",
     "output_type": "stream",
     "text": [
      "county df shape:  (741, 4)\n",
      "Pairwise Pearson Correlations at the county level (all)\n"
     ]
    },
    {
     "data": {
      "text/html": [
       "<div>\n",
       "<style scoped>\n",
       "    .dataframe tbody tr th:only-of-type {\n",
       "        vertical-align: middle;\n",
       "    }\n",
       "\n",
       "    .dataframe tbody tr th {\n",
       "        vertical-align: top;\n",
       "    }\n",
       "\n",
       "    .dataframe thead th {\n",
       "        text-align: right;\n",
       "    }\n",
       "</style>\n",
       "<table border=\"1\" class=\"dataframe\">\n",
       "  <thead>\n",
       "    <tr style=\"text-align: right;\">\n",
       "      <th></th>\n",
       "      <th>fertility</th>\n",
       "      <th>grandparents</th>\n",
       "      <th>marriage</th>\n",
       "      <th>cars</th>\n",
       "    </tr>\n",
       "  </thead>\n",
       "  <tbody>\n",
       "    <tr>\n",
       "      <th>fertility</th>\n",
       "      <td>1.000000</td>\n",
       "      <td>0.193518</td>\n",
       "      <td>0.029378</td>\n",
       "      <td>-0.129945</td>\n",
       "    </tr>\n",
       "    <tr>\n",
       "      <th>grandparents</th>\n",
       "      <td>0.193518</td>\n",
       "      <td>1.000000</td>\n",
       "      <td>0.044293</td>\n",
       "      <td>-0.029113</td>\n",
       "    </tr>\n",
       "    <tr>\n",
       "      <th>marriage</th>\n",
       "      <td>0.029378</td>\n",
       "      <td>0.044293</td>\n",
       "      <td>1.000000</td>\n",
       "      <td>-0.144604</td>\n",
       "    </tr>\n",
       "    <tr>\n",
       "      <th>cars</th>\n",
       "      <td>-0.129945</td>\n",
       "      <td>-0.029113</td>\n",
       "      <td>-0.144604</td>\n",
       "      <td>1.000000</td>\n",
       "    </tr>\n",
       "  </tbody>\n",
       "</table>\n",
       "</div>"
      ],
      "text/plain": [
       "              fertility  grandparents  marriage      cars\n",
       "fertility      1.000000      0.193518  0.029378 -0.129945\n",
       "grandparents   0.193518      1.000000  0.044293 -0.029113\n",
       "marriage       0.029378      0.044293  1.000000 -0.144604\n",
       "cars          -0.129945     -0.029113 -0.144604  1.000000"
      ]
     },
     "metadata": {},
     "output_type": "display_data"
    },
    {
     "name": "stdout",
     "output_type": "stream",
     "text": [
      "Cronbach alpha\n",
      "(-0.03172253562599832, array([-0.159,  0.084]))\n"
     ]
    }
   ],
   "source": [
    "county_data = [tfr_data, living_data, marriage_data, car_data]\n",
    "county_labels = [\"fertility\", \"grandparents\", \"marriage\", \"cars\"]\n",
    "#make county df\n",
    "fips_codes, state_data_processed = process_dicts(county_data)\n",
    "county_df = pd.DataFrame(columns=county_labels)\n",
    "for i in range(len(county_labels)):\n",
    "    county_df[county_labels[i]] = state_data_processed[i]\n",
    "county_df.set_index(fips_codes, inplace=True)\n",
    "\n",
    "print(\"county df shape: \", county_df.shape)\n",
    "print(\"Pairwise Pearson Correlations at the county level (all)\")\n",
    "display(county_df.corr())\n",
    "print(\"Cronbach alpha\")\n",
    "print(pg.cronbach_alpha(data=county_df))"
   ]
  },
  {
   "attachments": {},
   "cell_type": "markdown",
   "metadata": {},
   "source": [
    "##### All data at the state level"
   ]
  },
  {
   "cell_type": "code",
   "execution_count": 14,
   "metadata": {},
   "outputs": [
    {
     "name": "stdout",
     "output_type": "stream",
     "text": [
      "state df shape:  (42, 6)\n",
      "Pairwise Pearson Correlations at the state level (all)\n"
     ]
    },
    {
     "data": {
      "text/html": [
       "<div>\n",
       "<style scoped>\n",
       "    .dataframe tbody tr th:only-of-type {\n",
       "        vertical-align: middle;\n",
       "    }\n",
       "\n",
       "    .dataframe tbody tr th {\n",
       "        vertical-align: top;\n",
       "    }\n",
       "\n",
       "    .dataframe thead th {\n",
       "        text-align: right;\n",
       "    }\n",
       "</style>\n",
       "<table border=\"1\" class=\"dataframe\">\n",
       "  <thead>\n",
       "    <tr style=\"text-align: right;\">\n",
       "      <th></th>\n",
       "      <th>fertility</th>\n",
       "      <th>grandparents</th>\n",
       "      <th>marriage</th>\n",
       "      <th>cars</th>\n",
       "      <th>religion</th>\n",
       "      <th>compatriotism</th>\n",
       "    </tr>\n",
       "  </thead>\n",
       "  <tbody>\n",
       "    <tr>\n",
       "      <th>fertility</th>\n",
       "      <td>1.000000</td>\n",
       "      <td>0.044625</td>\n",
       "      <td>-0.029600</td>\n",
       "      <td>-0.489790</td>\n",
       "      <td>0.007723</td>\n",
       "      <td>-0.252338</td>\n",
       "    </tr>\n",
       "    <tr>\n",
       "      <th>grandparents</th>\n",
       "      <td>0.044625</td>\n",
       "      <td>1.000000</td>\n",
       "      <td>-0.186644</td>\n",
       "      <td>-0.050615</td>\n",
       "      <td>0.343947</td>\n",
       "      <td>0.168820</td>\n",
       "    </tr>\n",
       "    <tr>\n",
       "      <th>marriage</th>\n",
       "      <td>-0.029600</td>\n",
       "      <td>-0.186644</td>\n",
       "      <td>1.000000</td>\n",
       "      <td>-0.080827</td>\n",
       "      <td>-0.232621</td>\n",
       "      <td>-0.128473</td>\n",
       "    </tr>\n",
       "    <tr>\n",
       "      <th>cars</th>\n",
       "      <td>-0.489790</td>\n",
       "      <td>-0.050615</td>\n",
       "      <td>-0.080827</td>\n",
       "      <td>1.000000</td>\n",
       "      <td>-0.191369</td>\n",
       "      <td>-0.050225</td>\n",
       "    </tr>\n",
       "    <tr>\n",
       "      <th>religion</th>\n",
       "      <td>0.007723</td>\n",
       "      <td>0.343947</td>\n",
       "      <td>-0.232621</td>\n",
       "      <td>-0.191369</td>\n",
       "      <td>1.000000</td>\n",
       "      <td>0.749607</td>\n",
       "    </tr>\n",
       "    <tr>\n",
       "      <th>compatriotism</th>\n",
       "      <td>-0.252338</td>\n",
       "      <td>0.168820</td>\n",
       "      <td>-0.128473</td>\n",
       "      <td>-0.050225</td>\n",
       "      <td>0.749607</td>\n",
       "      <td>1.000000</td>\n",
       "    </tr>\n",
       "  </tbody>\n",
       "</table>\n",
       "</div>"
      ],
      "text/plain": [
       "               fertility  grandparents  marriage      cars  religion  \\\n",
       "fertility       1.000000      0.044625 -0.029600 -0.489790  0.007723   \n",
       "grandparents    0.044625      1.000000 -0.186644 -0.050615  0.343947   \n",
       "marriage       -0.029600     -0.186644  1.000000 -0.080827 -0.232621   \n",
       "cars           -0.489790     -0.050615 -0.080827  1.000000 -0.191369   \n",
       "religion        0.007723      0.343947 -0.232621 -0.191369  1.000000   \n",
       "compatriotism  -0.252338      0.168820 -0.128473 -0.050225  0.749607   \n",
       "\n",
       "               compatriotism  \n",
       "fertility          -0.252338  \n",
       "grandparents        0.168820  \n",
       "marriage           -0.128473  \n",
       "cars               -0.050225  \n",
       "religion            0.749607  \n",
       "compatriotism       1.000000  "
      ]
     },
     "metadata": {},
     "output_type": "display_data"
    },
    {
     "name": "stdout",
     "output_type": "stream",
     "text": [
      "Cronbach alpha\n",
      "(0.03246216873252079, array([-0.504,  0.424]))\n"
     ]
    }
   ],
   "source": [
    "tfr_data_state = get_state_data(tfr_data)\n",
    "living_data_state = get_state_data(living_data)\n",
    "marriage_data_state = get_state_data(marriage_data)\n",
    "car_data_state = get_state_data(car_data)\n",
    "income_data_state = get_state_data(income_control)\n",
    "\n",
    "state_data = [tfr_data_state, living_data_state, marriage_data_state, car_data_state, religion_data, compatriotism_data]\n",
    "state_labels = [\"fertility\", \"grandparents\", \"marriage\", \"cars\", \"religion\", \"compatriotism\"]\n",
    "#make state df\n",
    "fips_codes, state_data_processed = process_dicts(state_data)\n",
    "state_df = pd.DataFrame(columns=state_labels)\n",
    "for i in range(len(state_labels)):\n",
    "    state_df[state_labels[i]] = state_data_processed[i]\n",
    "state_df.set_index(fips_codes, inplace=True)\n",
    "\n",
    "print(\"state df shape: \",  state_df.shape)\n",
    "print(\"Pairwise Pearson Correlations at the state level (all)\")\n",
    "display(state_df.corr())\n",
    "print(\"Cronbach alpha\")\n",
    "print(pg.cronbach_alpha(data=state_df))"
   ]
  },
  {
   "attachments": {},
   "cell_type": "markdown",
   "metadata": {},
   "source": [
    "##### Ran experiments with every subset of >3 variables at the state level to maximize Cronbach's Alpha. Result: Include living arrangements, religiosity, and compatriotism"
   ]
  },
  {
   "cell_type": "code",
   "execution_count": 15,
   "metadata": {},
   "outputs": [
    {
     "name": "stdout",
     "output_type": "stream",
     "text": [
      "state df shape:  (42, 3)\n",
      "Pairwise Pearson Correlations at the state level\n"
     ]
    },
    {
     "data": {
      "text/html": [
       "<div>\n",
       "<style scoped>\n",
       "    .dataframe tbody tr th:only-of-type {\n",
       "        vertical-align: middle;\n",
       "    }\n",
       "\n",
       "    .dataframe tbody tr th {\n",
       "        vertical-align: top;\n",
       "    }\n",
       "\n",
       "    .dataframe thead th {\n",
       "        text-align: right;\n",
       "    }\n",
       "</style>\n",
       "<table border=\"1\" class=\"dataframe\">\n",
       "  <thead>\n",
       "    <tr style=\"text-align: right;\">\n",
       "      <th></th>\n",
       "      <th>grandparents</th>\n",
       "      <th>religion</th>\n",
       "      <th>compatriotism</th>\n",
       "    </tr>\n",
       "  </thead>\n",
       "  <tbody>\n",
       "    <tr>\n",
       "      <th>grandparents</th>\n",
       "      <td>1.000000</td>\n",
       "      <td>0.343947</td>\n",
       "      <td>0.168820</td>\n",
       "    </tr>\n",
       "    <tr>\n",
       "      <th>religion</th>\n",
       "      <td>0.343947</td>\n",
       "      <td>1.000000</td>\n",
       "      <td>0.749607</td>\n",
       "    </tr>\n",
       "    <tr>\n",
       "      <th>compatriotism</th>\n",
       "      <td>0.168820</td>\n",
       "      <td>0.749607</td>\n",
       "      <td>1.000000</td>\n",
       "    </tr>\n",
       "  </tbody>\n",
       "</table>\n",
       "</div>"
      ],
      "text/plain": [
       "               grandparents  religion  compatriotism\n",
       "grandparents       1.000000  0.343947       0.168820\n",
       "religion           0.343947  1.000000       0.749607\n",
       "compatriotism      0.168820  0.749607       1.000000"
      ]
     },
     "metadata": {},
     "output_type": "display_data"
    },
    {
     "name": "stdout",
     "output_type": "stream",
     "text": [
      "Cronbach alpha\n",
      "(0.70165249761289, array([0.502, 0.83 ]))\n",
      "Pairwise Pearson Correlations at the state level (including income)\n"
     ]
    },
    {
     "data": {
      "text/html": [
       "<div>\n",
       "<style scoped>\n",
       "    .dataframe tbody tr th:only-of-type {\n",
       "        vertical-align: middle;\n",
       "    }\n",
       "\n",
       "    .dataframe tbody tr th {\n",
       "        vertical-align: top;\n",
       "    }\n",
       "\n",
       "    .dataframe thead th {\n",
       "        text-align: right;\n",
       "    }\n",
       "</style>\n",
       "<table border=\"1\" class=\"dataframe\">\n",
       "  <thead>\n",
       "    <tr style=\"text-align: right;\">\n",
       "      <th></th>\n",
       "      <th>grandparents</th>\n",
       "      <th>religion</th>\n",
       "      <th>compatriotism</th>\n",
       "      <th>income</th>\n",
       "    </tr>\n",
       "  </thead>\n",
       "  <tbody>\n",
       "    <tr>\n",
       "      <th>grandparents</th>\n",
       "      <td>1.000000</td>\n",
       "      <td>0.343947</td>\n",
       "      <td>0.168820</td>\n",
       "      <td>-0.256767</td>\n",
       "    </tr>\n",
       "    <tr>\n",
       "      <th>religion</th>\n",
       "      <td>0.343947</td>\n",
       "      <td>1.000000</td>\n",
       "      <td>0.749607</td>\n",
       "      <td>-0.413523</td>\n",
       "    </tr>\n",
       "    <tr>\n",
       "      <th>compatriotism</th>\n",
       "      <td>0.168820</td>\n",
       "      <td>0.749607</td>\n",
       "      <td>1.000000</td>\n",
       "      <td>-0.180937</td>\n",
       "    </tr>\n",
       "    <tr>\n",
       "      <th>income</th>\n",
       "      <td>-0.256767</td>\n",
       "      <td>-0.413523</td>\n",
       "      <td>-0.180937</td>\n",
       "      <td>1.000000</td>\n",
       "    </tr>\n",
       "  </tbody>\n",
       "</table>\n",
       "</div>"
      ],
      "text/plain": [
       "               grandparents  religion  compatriotism    income\n",
       "grandparents       1.000000  0.343947       0.168820 -0.256767\n",
       "religion           0.343947  1.000000       0.749607 -0.413523\n",
       "compatriotism      0.168820  0.749607       1.000000 -0.180937\n",
       "income            -0.256767 -0.413523      -0.180937  1.000000"
      ]
     },
     "metadata": {},
     "output_type": "display_data"
    },
    {
     "name": "stdout",
     "output_type": "stream",
     "text": [
      "Partial correlations controlling for income\n"
     ]
    },
    {
     "data": {
      "text/html": [
       "<div>\n",
       "<style scoped>\n",
       "    .dataframe tbody tr th:only-of-type {\n",
       "        vertical-align: middle;\n",
       "    }\n",
       "\n",
       "    .dataframe tbody tr th {\n",
       "        vertical-align: top;\n",
       "    }\n",
       "\n",
       "    .dataframe thead th {\n",
       "        text-align: right;\n",
       "    }\n",
       "</style>\n",
       "<table border=\"1\" class=\"dataframe\">\n",
       "  <thead>\n",
       "    <tr style=\"text-align: right;\">\n",
       "      <th></th>\n",
       "      <th>grandparents</th>\n",
       "      <th>religion</th>\n",
       "      <th>compatriotism</th>\n",
       "      <th>income</th>\n",
       "    </tr>\n",
       "  </thead>\n",
       "  <tbody>\n",
       "    <tr>\n",
       "      <th>grandparents</th>\n",
       "      <td>1.000000</td>\n",
       "      <td>0.265671</td>\n",
       "      <td>-0.118308</td>\n",
       "      <td>-0.106860</td>\n",
       "    </tr>\n",
       "    <tr>\n",
       "      <th>religion</th>\n",
       "      <td>0.265671</td>\n",
       "      <td>1.000000</td>\n",
       "      <td>0.752806</td>\n",
       "      <td>-0.380808</td>\n",
       "    </tr>\n",
       "    <tr>\n",
       "      <th>compatriotism</th>\n",
       "      <td>-0.118308</td>\n",
       "      <td>0.752806</td>\n",
       "      <td>1.000000</td>\n",
       "      <td>0.198764</td>\n",
       "    </tr>\n",
       "    <tr>\n",
       "      <th>income</th>\n",
       "      <td>-0.106860</td>\n",
       "      <td>-0.380808</td>\n",
       "      <td>0.198764</td>\n",
       "      <td>1.000000</td>\n",
       "    </tr>\n",
       "  </tbody>\n",
       "</table>\n",
       "</div>"
      ],
      "text/plain": [
       "               grandparents  religion  compatriotism    income\n",
       "grandparents       1.000000  0.265671      -0.118308 -0.106860\n",
       "religion           0.265671  1.000000       0.752806 -0.380808\n",
       "compatriotism     -0.118308  0.752806       1.000000  0.198764\n",
       "income            -0.106860 -0.380808       0.198764  1.000000"
      ]
     },
     "metadata": {},
     "output_type": "display_data"
    }
   ],
   "source": [
    "state_data = [living_data_state, religion_data, compatriotism_data]\n",
    "state_labels = [\"grandparents\", \"religion\", \"compatriotism\"]\n",
    "\n",
    "# state_data = [tfr_data_state, living_data_state, religion_data, compatriotism_data]\n",
    "# state_labels = [\"fertility\", \"grandparents\", \"religion\", \"compatriotism\"]\n",
    "\n",
    "#make state df\n",
    "fips_codes, state_data_processed = process_dicts(state_data)\n",
    "state_df = pd.DataFrame(columns=state_labels)\n",
    "for i in range(len(state_labels)):\n",
    "    state_df[state_labels[i]] = state_data_processed[i]\n",
    "state_df.set_index(fips_codes, inplace=True)\n",
    "\n",
    "print(\"state df shape: \",  state_df.shape)\n",
    "print(\"Pairwise Pearson Correlations at the state level\")\n",
    "display(state_df.corr())\n",
    "print(\"Cronbach alpha\")\n",
    "print(pg.cronbach_alpha(data=state_df))\n",
    "\n",
    "state_data = [living_data_state, religion_data, compatriotism_data, income_data_state]\n",
    "state_labels = [\"grandparents\", \"religion\", \"compatriotism\", \"income\"]\n",
    "#make state df\n",
    "fips_codes, state_data_processed = process_dicts(state_data)\n",
    "state_df = pd.DataFrame(columns=state_labels)\n",
    "for i in range(len(state_labels)):\n",
    "    state_df[state_labels[i]] = state_data_processed[i]\n",
    "state_df.set_index(fips_codes, inplace=True)\n",
    "\n",
    "print(\"Pairwise Pearson Correlations at the state level (including income)\")\n",
    "display(state_df.corr())\n",
    "state_df.corr().to_csv(\"test.csv\")\n",
    "print(\"Partial correlations controlling for income\")\n",
    "display(state_df.pcorr())\n"
   ]
  },
  {
   "attachments": {},
   "cell_type": "markdown",
   "metadata": {},
   "source": [
    "### Regression Correlation Analysis"
   ]
  },
  {
   "cell_type": "code",
   "execution_count": 16,
   "metadata": {},
   "outputs": [
    {
     "name": "stdout",
     "output_type": "stream",
     "text": [
      "COUNTY LEVEL: what amount of variance in one variable can be explained by the other variables\n",
      "['fertility', 'grandparents', 'marriage', 'cars']\n",
      "(0.19463552238206278, 9.271893541015743e-08)\n",
      "(0.19733491878351186, 6.095010368196594e-08)\n",
      "(0.15009215017902852, 4.09475802784803e-05)\n",
      "(0.1916402327149177, 1.4667170058511747e-07)\n"
     ]
    }
   ],
   "source": [
    "from sklearn.linear_model import LinearRegression\n",
    "from sklearn.metrics import r2_score\n",
    "import math\n",
    "\n",
    "print(\"COUNTY LEVEL: what amount of variance in one variable can be explained by the other variables\")\n",
    "_, data = process_dicts(county_data)\n",
    "print(county_labels)\n",
    "\n",
    "X = np.array(data[1:3]).T\n",
    "y = np.array(data[0])\n",
    "reg = LinearRegression().fit(X, y)\n",
    "pred = reg.predict(X)\n",
    "print(pearsonr(y, pred))\n",
    "\n",
    "X_a = np.array(data[0:1])\n",
    "X_b = np.array(data[2:3])\n",
    "X = np.concatenate([X_a, X_b]).T\n",
    "y = np.array(data[1])\n",
    "reg = LinearRegression().fit(X, y)\n",
    "pred = reg.predict(X)\n",
    "print(pearsonr(y, pred))\n",
    "\n",
    "X_a = np.array(data[0:2])\n",
    "X_b = np.array([data[3]])\n",
    "X = np.concatenate([X_a, X_b]).T\n",
    "y = np.array(data[2])\n",
    "reg = LinearRegression().fit(X, y)\n",
    "pred = reg.predict(X)\n",
    "print(pearsonr(y, pred))\n",
    "\n",
    "X = np.array(data[0:3]).T\n",
    "y = np.array(data[3])\n",
    "reg = LinearRegression().fit(X, y)\n",
    "pred = reg.predict(X)\n",
    "print(pearsonr(y, pred))"
   ]
  },
  {
   "cell_type": "code",
   "execution_count": 17,
   "metadata": {},
   "outputs": [
    {
     "name": "stdout",
     "output_type": "stream",
     "text": [
      "STATE LEVEL: what amount of variance in one variable can be explained by the other variables\n",
      "['grandparents', 'religion', 'compatriotism']\n",
      "(0.3439465074872927, 0.025727988276223662)\n",
      "(0.8167209701066344, 4.2571467276119256e-11)\n",
      "(0.7555757790641874, 7.306801203417557e-09)\n"
     ]
    }
   ],
   "source": [
    "from sklearn.linear_model import LinearRegression\n",
    "from sklearn.metrics import r2_score, mean_squared_error\n",
    "import math\n",
    "\n",
    "print(\"STATE LEVEL: what amount of variance in one variable can be explained by the other variables\")\n",
    "_, data = process_dicts(state_data)\n",
    "print(state_labels[:-1])\n",
    "\n",
    "X = np.array(data[1:2]).T\n",
    "y = np.array(data[0])\n",
    "reg = LinearRegression().fit(X, y)\n",
    "pred = reg.predict(X)\n",
    "print(pearsonr(y, pred))\n",
    "\n",
    "X_a = np.array(data[0:1])\n",
    "X_b = np.array(data[2:])\n",
    "X = np.concatenate([X_a, X_b]).T\n",
    "y = np.array(data[1])\n",
    "reg = LinearRegression().fit(X, y)\n",
    "pred = reg.predict(X)\n",
    "print(pearsonr(y, pred))\n",
    "\n",
    "X = np.array(data[0:2]).T\n",
    "y = np.array(data[2])\n",
    "reg = LinearRegression().fit(X, y)\n",
    "pred = reg.predict(X)\n",
    "print(pearsonr(y, pred))\n"
   ]
  },
  {
   "attachments": {},
   "cell_type": "markdown",
   "metadata": {},
   "source": [
    "### Looking at Collectivism/Individualism Scores: County level"
   ]
  },
  {
   "cell_type": "code",
   "execution_count": 18,
   "metadata": {},
   "outputs": [
    {
     "name": "stdout",
     "output_type": "stream",
     "text": [
      "county df shape:  (740, 7)\n",
      "Pairwise Pearson Correlations at the county level (all)\n"
     ]
    },
    {
     "data": {
      "text/html": [
       "<div>\n",
       "<style scoped>\n",
       "    .dataframe tbody tr th:only-of-type {\n",
       "        vertical-align: middle;\n",
       "    }\n",
       "\n",
       "    .dataframe tbody tr th {\n",
       "        vertical-align: top;\n",
       "    }\n",
       "\n",
       "    .dataframe thead th {\n",
       "        text-align: right;\n",
       "    }\n",
       "</style>\n",
       "<table border=\"1\" class=\"dataframe\">\n",
       "  <thead>\n",
       "    <tr style=\"text-align: right;\">\n",
       "      <th></th>\n",
       "      <th>fertility</th>\n",
       "      <th>grandparents</th>\n",
       "      <th>marriage</th>\n",
       "      <th>cars</th>\n",
       "      <th>collectivism</th>\n",
       "      <th>individualism</th>\n",
       "      <th>income</th>\n",
       "    </tr>\n",
       "  </thead>\n",
       "  <tbody>\n",
       "    <tr>\n",
       "      <th>fertility</th>\n",
       "      <td>1.000000</td>\n",
       "      <td>0.192716</td>\n",
       "      <td>0.028700</td>\n",
       "      <td>-0.129584</td>\n",
       "      <td>0.056068</td>\n",
       "      <td>-0.187889</td>\n",
       "      <td>-0.163251</td>\n",
       "    </tr>\n",
       "    <tr>\n",
       "      <th>grandparents</th>\n",
       "      <td>0.192716</td>\n",
       "      <td>1.000000</td>\n",
       "      <td>0.040996</td>\n",
       "      <td>-0.027164</td>\n",
       "      <td>-0.037043</td>\n",
       "      <td>-0.350870</td>\n",
       "      <td>-0.205674</td>\n",
       "    </tr>\n",
       "    <tr>\n",
       "      <th>marriage</th>\n",
       "      <td>0.028700</td>\n",
       "      <td>0.040996</td>\n",
       "      <td>1.000000</td>\n",
       "      <td>-0.143842</td>\n",
       "      <td>-0.175550</td>\n",
       "      <td>0.173100</td>\n",
       "      <td>0.522680</td>\n",
       "    </tr>\n",
       "    <tr>\n",
       "      <th>cars</th>\n",
       "      <td>-0.129584</td>\n",
       "      <td>-0.027164</td>\n",
       "      <td>-0.143842</td>\n",
       "      <td>1.000000</td>\n",
       "      <td>0.078122</td>\n",
       "      <td>-0.021528</td>\n",
       "      <td>0.082803</td>\n",
       "    </tr>\n",
       "    <tr>\n",
       "      <th>collectivism</th>\n",
       "      <td>0.056068</td>\n",
       "      <td>-0.037043</td>\n",
       "      <td>-0.175550</td>\n",
       "      <td>0.078122</td>\n",
       "      <td>1.000000</td>\n",
       "      <td>0.108789</td>\n",
       "      <td>0.015457</td>\n",
       "    </tr>\n",
       "    <tr>\n",
       "      <th>individualism</th>\n",
       "      <td>-0.187889</td>\n",
       "      <td>-0.350870</td>\n",
       "      <td>0.173100</td>\n",
       "      <td>-0.021528</td>\n",
       "      <td>0.108789</td>\n",
       "      <td>1.000000</td>\n",
       "      <td>0.435143</td>\n",
       "    </tr>\n",
       "    <tr>\n",
       "      <th>income</th>\n",
       "      <td>-0.163251</td>\n",
       "      <td>-0.205674</td>\n",
       "      <td>0.522680</td>\n",
       "      <td>0.082803</td>\n",
       "      <td>0.015457</td>\n",
       "      <td>0.435143</td>\n",
       "      <td>1.000000</td>\n",
       "    </tr>\n",
       "  </tbody>\n",
       "</table>\n",
       "</div>"
      ],
      "text/plain": [
       "               fertility  grandparents  marriage      cars  collectivism  \\\n",
       "fertility       1.000000      0.192716  0.028700 -0.129584      0.056068   \n",
       "grandparents    0.192716      1.000000  0.040996 -0.027164     -0.037043   \n",
       "marriage        0.028700      0.040996  1.000000 -0.143842     -0.175550   \n",
       "cars           -0.129584     -0.027164 -0.143842  1.000000      0.078122   \n",
       "collectivism    0.056068     -0.037043 -0.175550  0.078122      1.000000   \n",
       "individualism  -0.187889     -0.350870  0.173100 -0.021528      0.108789   \n",
       "income         -0.163251     -0.205674  0.522680  0.082803      0.015457   \n",
       "\n",
       "               individualism    income  \n",
       "fertility          -0.187889 -0.163251  \n",
       "grandparents       -0.350870 -0.205674  \n",
       "marriage            0.173100  0.522680  \n",
       "cars               -0.021528  0.082803  \n",
       "collectivism        0.108789  0.015457  \n",
       "individualism       1.000000  0.435143  \n",
       "income              0.435143  1.000000  "
      ]
     },
     "metadata": {},
     "output_type": "display_data"
    },
    {
     "name": "stdout",
     "output_type": "stream",
     "text": [
      "Cronbach alpha\n",
      "(0.18967829713442358, array([0.097, 0.276]))\n"
     ]
    }
   ],
   "source": [
    "coll_scores_county = county_scores[county_scores[\"feat\"] == \"COLLECTIVISM\"]\n",
    "coll_scores_county = dict(zip(coll_scores_county.group_id, coll_scores_county.group_norm))\n",
    "\n",
    "indv_scores_county = county_scores[county_scores[\"feat\"] == \"INDIVIDUALISM\"]\n",
    "indv_scores_county = dict(zip(indv_scores_county.group_id, indv_scores_county.group_norm))\n",
    "\n",
    "county_data=[tfr_data, living_data, marriage_data, car_data, coll_scores_county, indv_scores_county, income_control]\n",
    "county_labels = [\"fertility\", \"grandparents\", \"marriage\", \"cars\", \"collectivism\", \"individualism\", \"income\"]\n",
    "\n",
    "#make county df\n",
    "fips_codes, state_data_processed = process_dicts(county_data)\n",
    "county_df = pd.DataFrame(columns=county_labels)\n",
    "for i in range(len(county_labels)):\n",
    "    county_df[county_labels[i]] = zero_one_normalize(state_data_processed[i])\n",
    "county_df.set_index(fips_codes, inplace=True)\n",
    "\n",
    "print(\"county df shape: \", county_df.shape)\n",
    "print(\"Pairwise Pearson Correlations at the county level (all)\")\n",
    "display(county_df.corr())\n",
    "print(\"Cronbach alpha\")\n",
    "print(pg.cronbach_alpha(data=county_df))\n"
   ]
  },
  {
   "cell_type": "code",
   "execution_count": 82,
   "metadata": {},
   "outputs": [
    {
     "name": "stdout",
     "output_type": "stream",
     "text": [
      "2042\n",
      "      collectivism  individualism  cnty      diff\n",
      "0         0.260847       0.230808     0  0.335455\n",
      "1001      0.503897       0.194162  1001  0.541831\n",
      "1003      0.530369       0.270219  1003  0.505245\n",
      "1005      0.641623       0.190335  1005  0.646277\n",
      "1007      0.538226       0.224859  1007  0.544511\n"
     ]
    }
   ],
   "source": [
    "county_data = [coll_scores_county, indv_scores_county]\n",
    "county_labels = [\"collectivism\", \"individualism\"]\n",
    "\n",
    "#make county df\n",
    "fips_codes, state_data_processed = process_dicts(county_data)\n",
    "county_df = pd.DataFrame(columns=county_labels)\n",
    "for i in range(len(county_labels)):\n",
    "    county_df[county_labels[i]] = zero_one_normalize(state_data_processed[i])\n",
    "county_df.set_index(fips_codes, inplace=True)\n",
    "county_df[\"cnty\"] = fips_codes\n",
    "county_df[\"diff\"] = zero_one_normalize(county_df[\"collectivism\"]-county_df[\"individualism\"])\n",
    "print(len(county_df))\n",
    "\n",
    "print(county_df.head())\n",
    "engine = sqlalchemy.create_engine(db_county)\n",
    "county_df.to_sql(\"cnty_coll_indv_outcomes\", con=engine, index=False, if_exists='replace', chunksize=50000)"
   ]
  },
  {
   "cell_type": "code",
   "execution_count": 68,
   "metadata": {},
   "outputs": [
    {
     "data": {
      "text/plain": [
       "1.0"
      ]
     },
     "execution_count": 68,
     "metadata": {},
     "output_type": "execute_result"
    }
   ],
   "source": [
    "max(county_df[\"collectivism\"])"
   ]
  },
  {
   "attachments": {},
   "cell_type": "markdown",
   "metadata": {},
   "source": [
    "### Looking at Collectivism/Individualism Scores: State level"
   ]
  },
  {
   "cell_type": "code",
   "execution_count": 69,
   "metadata": {},
   "outputs": [
    {
     "name": "stdout",
     "output_type": "stream",
     "text": [
      "Pairwise Pearson Correlations at the state level\n"
     ]
    },
    {
     "data": {
      "text/html": [
       "<div>\n",
       "<style scoped>\n",
       "    .dataframe tbody tr th:only-of-type {\n",
       "        vertical-align: middle;\n",
       "    }\n",
       "\n",
       "    .dataframe tbody tr th {\n",
       "        vertical-align: top;\n",
       "    }\n",
       "\n",
       "    .dataframe thead th {\n",
       "        text-align: right;\n",
       "    }\n",
       "</style>\n",
       "<table border=\"1\" class=\"dataframe\">\n",
       "  <thead>\n",
       "    <tr style=\"text-align: right;\">\n",
       "      <th></th>\n",
       "      <th>grandparents</th>\n",
       "      <th>religion</th>\n",
       "      <th>compatriotism</th>\n",
       "      <th>collectivism</th>\n",
       "      <th>individualism</th>\n",
       "      <th>income</th>\n",
       "    </tr>\n",
       "  </thead>\n",
       "  <tbody>\n",
       "    <tr>\n",
       "      <th>grandparents</th>\n",
       "      <td>1.000000</td>\n",
       "      <td>0.343947</td>\n",
       "      <td>0.168820</td>\n",
       "      <td>0.200423</td>\n",
       "      <td>-0.291030</td>\n",
       "      <td>-0.256767</td>\n",
       "    </tr>\n",
       "    <tr>\n",
       "      <th>religion</th>\n",
       "      <td>0.343947</td>\n",
       "      <td>1.000000</td>\n",
       "      <td>0.749607</td>\n",
       "      <td>0.399528</td>\n",
       "      <td>-0.658271</td>\n",
       "      <td>-0.413523</td>\n",
       "    </tr>\n",
       "    <tr>\n",
       "      <th>compatriotism</th>\n",
       "      <td>0.168820</td>\n",
       "      <td>0.749607</td>\n",
       "      <td>1.000000</td>\n",
       "      <td>0.464271</td>\n",
       "      <td>-0.513010</td>\n",
       "      <td>-0.180937</td>\n",
       "    </tr>\n",
       "    <tr>\n",
       "      <th>collectivism</th>\n",
       "      <td>0.200423</td>\n",
       "      <td>0.399528</td>\n",
       "      <td>0.464271</td>\n",
       "      <td>1.000000</td>\n",
       "      <td>-0.470284</td>\n",
       "      <td>-0.273389</td>\n",
       "    </tr>\n",
       "    <tr>\n",
       "      <th>individualism</th>\n",
       "      <td>-0.291030</td>\n",
       "      <td>-0.658271</td>\n",
       "      <td>-0.513010</td>\n",
       "      <td>-0.470284</td>\n",
       "      <td>1.000000</td>\n",
       "      <td>0.424323</td>\n",
       "    </tr>\n",
       "    <tr>\n",
       "      <th>income</th>\n",
       "      <td>-0.256767</td>\n",
       "      <td>-0.413523</td>\n",
       "      <td>-0.180937</td>\n",
       "      <td>-0.273389</td>\n",
       "      <td>0.424323</td>\n",
       "      <td>1.000000</td>\n",
       "    </tr>\n",
       "  </tbody>\n",
       "</table>\n",
       "</div>"
      ],
      "text/plain": [
       "               grandparents  religion  compatriotism  collectivism  \\\n",
       "grandparents       1.000000  0.343947       0.168820      0.200423   \n",
       "religion           0.343947  1.000000       0.749607      0.399528   \n",
       "compatriotism      0.168820  0.749607       1.000000      0.464271   \n",
       "collectivism       0.200423  0.399528       0.464271      1.000000   \n",
       "individualism     -0.291030 -0.658271      -0.513010     -0.470284   \n",
       "income            -0.256767 -0.413523      -0.180937     -0.273389   \n",
       "\n",
       "               individualism    income  \n",
       "grandparents       -0.291030 -0.256767  \n",
       "religion           -0.658271 -0.413523  \n",
       "compatriotism      -0.513010 -0.180937  \n",
       "collectivism       -0.470284 -0.273389  \n",
       "individualism       1.000000  0.424323  \n",
       "income              0.424323  1.000000  "
      ]
     },
     "metadata": {},
     "output_type": "display_data"
    }
   ],
   "source": [
    "coll_scores_state = get_state_data(coll_scores_county)\n",
    "indv_scores_state = get_state_data(indv_scores_county)\n",
    "\n",
    "state_data = [living_data_state, religion_data, compatriotism_data, coll_scores_state, indv_scores_state, income_data_state]\n",
    "state_labels = [\"grandparents\", \"religion\", \"compatriotism\", \"collectivism\", \"individualism\", \"income\"]\n",
    "\n",
    "#make state df\n",
    "states, state_data_processed = process_dicts(state_data)\n",
    "state_df = pd.DataFrame(columns=state_labels)\n",
    "for i in range(len(state_labels)):\n",
    "    state_df[state_labels[i]] = zscore(state_data_processed[i])\n",
    "state_df.set_index(states, inplace=True)\n",
    "\n",
    "print(\"Pairwise Pearson Correlations at the state level\")\n",
    "display(state_df.corr())\n",
    "\n",
    "state_df.to_csv(\"test.csv\")"
   ]
  },
  {
   "attachments": {},
   "cell_type": "markdown",
   "metadata": {},
   "source": [
    "### Looking at Collectivism/Individualism Scores: Community level"
   ]
  },
  {
   "cell_type": "code",
   "execution_count": 99,
   "metadata": {},
   "outputs": [
    {
     "name": "stdout",
     "output_type": "stream",
     "text": [
      "Exurbs 207\n",
      "Graying America 164\n",
      "African American South 252\n",
      "Evangelical Hubs 269\n",
      "Working Class Country 159\n",
      "Military Posts 70\n",
      "Urban Suburbs 103\n",
      "College Towns 151\n",
      "Big Cities 46\n",
      "Hispanic Centers 87\n",
      "Rural Middle America 403\n",
      "Middle Suburbs 77\n"
     ]
    }
   ],
   "source": [
    "_, mappings = get_community_mapping()\n",
    "\n",
    "coll_scores_community = {}\n",
    "indv_scores_community = {}\n",
    "\n",
    "for fips, row in county_df.iterrows():\n",
    "    try:\n",
    "        c = mappings[fips]\n",
    "        if(c is None): continue\n",
    "        if(c not in coll_scores_community.keys()):\n",
    "            coll_scores_community[c] = []\n",
    "            indv_scores_community[c] = []\n",
    "        coll_scores_community[c].append(row[\"collectivism\"])\n",
    "        indv_scores_community[c].append(row[\"individualism\"])\n",
    "    except(KeyError):\n",
    "        continue\n",
    "\n",
    "communities = list(coll_scores_community.keys())\n",
    "for c in communities:\n",
    "    if(len(coll_scores_community[c]) < 20):\n",
    "        del coll_scores_community[c]\n",
    "        del indv_scores_community[c]\n",
    "    else:\n",
    "        print(c, \" & \", len(coll_scores_community[c]), \"\\\\\\\\\")\n",
    "\n",
    "community_df = pd.DataFrame()\n",
    "communities = list(coll_scores_community.keys())\n",
    "community_df[\"community\"] = communities\n",
    "community_df[\"collectivism\"] = zero_one_normalize([np.median(coll_scores_community[x]) for x in communities])\n",
    "community_df[\"individualism\"] = zero_one_normalize([np.median(indv_scores_community[x]) for x in communities])\n",
    "\n",
    "community_df.to_csv(\"community_scores.csv\")"
   ]
  },
  {
   "attachments": {},
   "cell_type": "markdown",
   "metadata": {},
   "source": [
    "### Vandello-Cohen Correlation"
   ]
  },
  {
   "cell_type": "code",
   "execution_count": 86,
   "metadata": {},
   "outputs": [
    {
     "name": "stdout",
     "output_type": "stream",
     "text": [
      "Pairwise Pearson Correlations at the state level\n"
     ]
    },
    {
     "data": {
      "text/html": [
       "<div>\n",
       "<style scoped>\n",
       "    .dataframe tbody tr th:only-of-type {\n",
       "        vertical-align: middle;\n",
       "    }\n",
       "\n",
       "    .dataframe tbody tr th {\n",
       "        vertical-align: top;\n",
       "    }\n",
       "\n",
       "    .dataframe thead th {\n",
       "        text-align: right;\n",
       "    }\n",
       "</style>\n",
       "<table border=\"1\" class=\"dataframe\">\n",
       "  <thead>\n",
       "    <tr style=\"text-align: right;\">\n",
       "      <th></th>\n",
       "      <th>vandello-cohen</th>\n",
       "      <th>collectivism</th>\n",
       "      <th>individualism</th>\n",
       "    </tr>\n",
       "  </thead>\n",
       "  <tbody>\n",
       "    <tr>\n",
       "      <th>vandello-cohen</th>\n",
       "      <td>1.000000</td>\n",
       "      <td>0.388330</td>\n",
       "      <td>-0.374328</td>\n",
       "    </tr>\n",
       "    <tr>\n",
       "      <th>collectivism</th>\n",
       "      <td>0.388330</td>\n",
       "      <td>1.000000</td>\n",
       "      <td>-0.363711</td>\n",
       "    </tr>\n",
       "    <tr>\n",
       "      <th>individualism</th>\n",
       "      <td>-0.374328</td>\n",
       "      <td>-0.363711</td>\n",
       "      <td>1.000000</td>\n",
       "    </tr>\n",
       "  </tbody>\n",
       "</table>\n",
       "</div>"
      ],
      "text/plain": [
       "                vandello-cohen  collectivism  individualism\n",
       "vandello-cohen        1.000000      0.388330      -0.374328\n",
       "collectivism          0.388330      1.000000      -0.363711\n",
       "individualism        -0.374328     -0.363711       1.000000"
      ]
     },
     "metadata": {},
     "output_type": "display_data"
    }
   ],
   "source": [
    "vc_scores = pd.read_csv(\"GCI Data/vandello_cohen.csv\")\n",
    "vc_scores = dict(zip(vc_scores.State, vc_scores.Score))\n",
    "\n",
    "state_data = [vc_scores, coll_scores_state, indv_scores_state]\n",
    "state_labels = [\"vandello-cohen\", \"collectivism\", \"individualism\"]\n",
    "\n",
    "#make state df\n",
    "states, state_data_processed = process_dicts(state_data)\n",
    "state_df = pd.DataFrame(columns=state_labels)\n",
    "for i in range(len(state_labels)):\n",
    "    state_df[state_labels[i]] = zero_one_normalize(state_data_processed[i])\n",
    "state_df.set_index(states, inplace=True)\n",
    "\n",
    "print(\"Pairwise Pearson Correlations at the state level\")\n",
    "display(state_df.corr())\n",
    "\n"
   ]
  },
  {
   "cell_type": "code",
   "execution_count": 23,
   "metadata": {},
   "outputs": [
    {
     "name": "stderr",
     "output_type": "stream",
     "text": [
      "/home/shreyah/.local/lib/python3.6/site-packages/ipykernel_launcher.py:1: SADeprecationWarning: Calling URL() directly is deprecated and will be disabled in a future release.  The public constructor for URL is now the URL.create() method.\n",
      "  \"\"\"Entry point for launching an IPython kernel.\n"
     ]
    },
    {
     "name": "stdout",
     "output_type": "stream",
     "text": [
      "3134\n"
     ]
    }
   ],
   "source": [
    "db_indv_coll = sqlalchemy.engine.url.URL(drivername='mysql', host='127.0.0.1', database='individualism_collectivism', query={'read_default_file': '~/.my.cnf', 'charset':'utf8'})\n",
    "\n",
    "engine = sqlalchemy.create_engine(db_indv_coll)\n",
    "interpolations = pd.read_sql(\"ic2s2_interpolations\", con=engine)\n",
    "\n",
    "cnty = interpolations[\"cnty\"]\n",
    "diff_interpolated = interpolations[\"diff_interpolated\"]\n",
    "\n",
    "norm_cnty = []\n",
    "norm_diff_interpolated = []\n",
    "test = []\n",
    "for i in range(len(cnty)):\n",
    "    if(diff_interpolated[i] > 0 or diff_interpolated[i] <= 0):\n",
    "        norm_cnty.append(cnty[i])\n",
    "        norm_diff_interpolated.append(diff_interpolated[i])\n",
    "        test.append(1)\n",
    "norm_diff_interpolated = zero_one_normalize(norm_diff_interpolated)\n",
    "print(len(norm_diff_interpolated))\n",
    "normalized_diff = pd.DataFrame()\n",
    "normalized_diff[\"cnty\"] = norm_cnty\n",
    "normalized_diff[\"diff\"] = norm_diff_interpolated\n",
    "normalized_diff[\"test\"] = test\n",
    "\n",
    "normalized_diff.to_sql(\"ic2s2_interpolations_normalized\", con=engine, index=False, if_exists='replace', chunksize=50000)\n"
   ]
  }
 ],
 "metadata": {
  "kernelspec": {
   "display_name": "shreya_env",
   "language": "python",
   "name": "python3"
  },
  "language_info": {
   "codemirror_mode": {
    "name": "ipython",
    "version": 3
   },
   "file_extension": ".py",
   "mimetype": "text/x-python",
   "name": "python",
   "nbconvert_exporter": "python",
   "pygments_lexer": "ipython3",
   "version": "3.6.13"
  },
  "orig_nbformat": 4,
  "vscode": {
   "interpreter": {
    "hash": "91463280d8781b4327168e6aed37b9922ec5e51ac75b06b77d3a30bc9c56392e"
   }
  }
 },
 "nbformat": 4,
 "nbformat_minor": 2
}
